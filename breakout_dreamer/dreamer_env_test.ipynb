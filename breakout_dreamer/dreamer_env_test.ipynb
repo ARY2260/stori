{
 "cells": [
  {
   "cell_type": "code",
   "execution_count": 1,
   "metadata": {},
   "outputs": [],
   "source": [
    "from atari_dreamerv3 import Atari\n",
    "import dreamerv3_wrappers as wrappers"
   ]
  },
  {
   "cell_type": "code",
   "execution_count": 2,
   "metadata": {},
   "outputs": [],
   "source": [
    "import numpy as np\n",
    "from post_processing_obs import blackout_obs_mode, crop_obs_mode\n",
    "from ram_modification_obs import ram_obs_modification_mode\n",
    "from gymnasium.core import ActionWrapper\n",
    "\n",
    "\n",
    "class PartialObservationWrapper(wrappers.CutomGymnasiumWrapper):\n",
    "    \"\"\"Custom wrapper that modifies observations\"\"\"\n",
    "    \n",
    "    def __init__(self, env, config):\n",
    "        super().__init__(env)\n",
    "        self.config = config\n",
    "\n",
    "        # Replace the _screen method from Atari env\n",
    "        self.env._screen = self._screen\n",
    "    \n",
    "    def _manipulate_screen(self, array):\n",
    "        \"\"\"Modify the screen in buffer\"\"\"\n",
    "\n",
    "        # add a random probability to apply the modification\n",
    "        if np.random.rand() < self.config['prob']:\n",
    "            if self.config['type'] == 'blackout':\n",
    "                blackout_obs_mode(array, self.config['mode'])\n",
    "            elif self.config['type'] == 'crop':\n",
    "                crop_obs_mode(array, self.config['mode'])\n",
    "            elif self.config['type'] == 'ram':\n",
    "                array = ram_obs_modification_mode(self.env._env, self.config['mode'])\n",
    "    \n",
    "    def _screen(self, array):\n",
    "        self.env._ale.getScreenRGB(array)\n",
    "        self._manipulate_screen(array)\n",
    "\n",
    "    # def render(self):\n",
    "    #     \"\"\"Override render to show the modified observation\"\"\"\n",
    "    #     if self.render_mode == \"rgb_array\":\n",
    "    #         # Get the current observation and apply our modification\n",
    "    #         obs = self.env.render()\n",
    "    #         if obs is not None:\n",
    "    #             return self.observation(obs)\n",
    "    #     return self.env.render()\n",
    "\n",
    "\n",
    "class ActionDependentStochasticityWrapper(ActionWrapper):\n",
    "    \"\"\"Wrapper that implements action dependent stochasticity in internal ale _env.\n",
    "    \"\"\"\n",
    "\n",
    "    def __init__(self, env, config):\n",
    "        super().__init__(env)\n",
    "        self.prob = config['stochastic_action_prob']\n",
    "\n",
    "    def action(self, action):\n",
    "        if np.random.random() < self.prob:\n",
    "            # Choose random action\n",
    "            return self.env.action_space.sample()\n",
    "        else:\n",
    "            # Use predicted action\n",
    "            return action\n",
    "\n",
    "\n",
    "class StochasticEnv:\n",
    "    \"\"\"\n",
    "    Environment type docstrings:\n",
    "\n",
    "    0: Deterministic Env\n",
    "       - No stochasticity or partial observability applied.\n",
    "\n",
    "    1: Intrinsic Stochastic Env (action-dependent)\n",
    "       - Stochasticity is introduced based on the agent's actions.\n",
    "\n",
    "    2: Intrinsic Stochastic Env (action-independent-random, Aleatoric)\n",
    "       - Stochasticity is introduced independently of the agent's actions, e.g., random effects. # block not hit, regen\n",
    "\n",
    "    3: Intrinsic Stochastic Env (action-independent-concept-drift)\n",
    "       - Stochasticity is introduced by changing environment dynamics over time (concept drift). # within episode and combine sudden and cyclic\n",
    "\n",
    "    4: Partially observed Env (state-variable-different-repr)\n",
    "       - The environment state is partially observed by representing state variables differently.\n",
    "\n",
    "    5: Partially observed Env (state-variable-missing)\n",
    "       - The environment state is partially observed by omitting some state variables.\n",
    "    \"\"\"\n",
    "    def __init__(self, type, config):\n",
    "        self.type = type\n",
    "        self.config = config\n",
    "\n",
    "    def get_env(self, env):\n",
    "        if self.type == 0:\n",
    "            raise NotImplementedError\n",
    "        elif self.type == 1:\n",
    "            env._env = ActionDependentStochasticityWrapper(env._env, config=self.config['intrinsic_stochasticity']['action_dependent'])\n",
    "            return env\n",
    "        elif self.type == 2:\n",
    "            raise NotImplementedError\n",
    "        elif self.type == 3:\n",
    "            raise NotImplementedError\n",
    "        elif self.type == 4:\n",
    "            raise NotImplementedError\n",
    "        elif self.type == 5:\n",
    "            return PartialObservationWrapper(env, config=self.config['partial_observation'])"
   ]
  },
  {
   "cell_type": "code",
   "execution_count": 3,
   "metadata": {},
   "outputs": [],
   "source": [
    "import matplotlib.pyplot as plt\n",
    "import numpy as np\n",
    "\n",
    "def plot_frame(obs, label=''):\n",
    "    \"\"\"Plot a frame without going into interactive mode\"\"\"\n",
    "    # Create a new figure with non-interactive backend for this plot\n",
    "    fig, ax = plt.subplots(figsize=(5, 5))\n",
    "    ax.imshow(obs)\n",
    "    ax.set_title(f'Observation {label}')\n",
    "    ax.axis('off')\n",
    "    plt.tight_layout()\n",
    "    plt.show(block=True)  # Don't block, just display\n",
    "    plt.close()  # Close the figure to free memory"
   ]
  },
  {
   "cell_type": "code",
   "execution_count": 4,
   "metadata": {},
   "outputs": [
    {
     "name": "stderr",
     "output_type": "stream",
     "text": [
      "A.L.E: Arcade Learning Environment (version 0.10.2+c9d4b19)\n",
      "[Powered by Stella]\n"
     ]
    }
   ],
   "source": [
    "env = Atari(\n",
    "            'Breakout',\n",
    "            4,\n",
    "            [64, 64],\n",
    "            gray=False,\n",
    "            noops=0,\n",
    "            lives='unused',\n",
    "            sticky=False,\n",
    "            actions='needed',\n",
    "            resize='opencv',\n",
    "            seed=0,\n",
    "        )\n",
    "\n",
    "stochasticity_config = {\n",
    "    'intrinsic_stochasticity': {\n",
    "        'action_dependent': {\n",
    "            'stochastic_action_prob': 0.5,\n",
    "            },\n",
    "        'action_independent': {\n",
    "            'concept_drift': NotImplementedError\n",
    "        },\n",
    "    },\n",
    "    'partial_observation': {\n",
    "            'type': 'ram', # 'blackout' or 'crop' or 'ram'\n",
    "            'mode': '2', # mode 1 in ram is buggy\n",
    "            'prob': 0.75,\n",
    "    },\n",
    "}\n",
    "\n",
    "stochasticity_wrapper = StochasticEnv(type=5, config=stochasticity_config)\n",
    "env = stochasticity_wrapper.get_env(env)"
   ]
  },
  {
   "cell_type": "code",
   "execution_count": 5,
   "metadata": {},
   "outputs": [],
   "source": [
    "env = wrappers.OneHotAction(env)\n",
    "env = wrappers.TimeLimit(env, duration=108000)\n",
    "env = wrappers.SelectAction(env, key=\"action\")\n",
    "env = wrappers.UUID(env)"
   ]
  },
  {
   "cell_type": "code",
   "execution_count": 6,
   "metadata": {},
   "outputs": [
    {
     "data": {
      "image/png": "[encoded data removed]",
      "text/plain": [
       "<Figure size 500x500 with 1 Axes>"
      ]
     },
     "metadata": {},
     "output_type": "display_data"
    }
   ],
   "source": [
    "state = env.reset()\n",
    "state.keys()\n",
    "plot_frame(state['image'])"
   ]
  },
  {
   "cell_type": "code",
   "execution_count": 7,
   "metadata": {},
   "outputs": [
    {
     "data": {
      "image/png": "[encoded data removed]",
      "text/plain": [
       "<Figure size 500x500 with 1 Axes>"
      ]
     },
     "metadata": {},
     "output_type": "display_data"
    }
   ],
   "source": [
    "state, reward, is_last, _ = env.step({'action': np.array([0, 1 , 0, 0])})\n",
    "state.keys()\n",
    "plot_frame(state['image'])"
   ]
  }
 ],
 "metadata": {
  "kernelspec": {
   "display_name": "atari-env",
   "language": "python",
   "name": "python3"
  },
  "language_info": {
   "codemirror_mode": {
    "name": "ipython",
    "version": 3
   },
   "file_extension": ".py",
   "mimetype": "text/x-python",
   "name": "python",
   "nbconvert_exporter": "python",
   "pygments_lexer": "ipython3",
   "version": "3.10.18"
  }
 },
 "nbformat": 4,
 "nbformat_minor": 2
}
