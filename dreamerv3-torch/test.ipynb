{
 "cells": [
  {
   "cell_type": "code",
   "execution_count": 1,
   "metadata": {},
   "outputs": [],
   "source": [
    "from envs.atari import Atari\n",
    "from envs import wrappers"
   ]
  },
  {
   "cell_type": "code",
   "execution_count": 2,
   "metadata": {},
   "outputs": [],
   "source": [
    "import matplotlib.pyplot as plt\n",
    "import numpy as np\n",
    "\n",
    "def plot_frame(obs, label=''):\n",
    "    \"\"\"Plot a frame without going into interactive mode\"\"\"\n",
    "    # Create a new figure with non-interactive backend for this plot\n",
    "    fig, ax = plt.subplots(figsize=(5, 5))\n",
    "    ax.imshow(obs)\n",
    "    ax.set_title(f'Observation {label}')\n",
    "    ax.axis('off')\n",
    "    plt.tight_layout()\n",
    "    plt.show(block=True)  # Don't block, just display\n",
    "    plt.close()  # Close the figure to free memory"
   ]
  },
  {
   "cell_type": "code",
   "execution_count": 266,
   "metadata": {},
   "outputs": [],
   "source": [
    "from stochastic_atari import create_stochasticity_profile\n",
    "\n",
    "game_name = 'Breakout'\n",
    "\n",
    "env = Atari(\n",
    "            game_name,\n",
    "            4,\n",
    "            [64, 64],\n",
    "            gray=False,\n",
    "            noops=0,\n",
    "            lives='unused',\n",
    "            sticky=False,\n",
    "            actions='needed',\n",
    "            resize='opencv',\n",
    "            seed=0,\n",
    "        )\n",
    "\n",
    "stochasticity_config = {\n",
    "    'intrinsic_stochasticity': {\n",
    "        'action_dependent': {\n",
    "            'stochastic_action_prob': 0.5,\n",
    "            },\n",
    "        'action_independent_random': {\n",
    "            'mode': '2',\n",
    "            'random_stochasticity_prob': 0.25, # mode 3: keep around 0.0005\n",
    "        },\n",
    "        'action_independent_concept_drift': {\n",
    "            'temporal_mode': 'cyclic', # 'sudden' or 'cyclic'\n",
    "            'temporal_threshold': 5,\n",
    "            'secondary_concept_type': 5,\n",
    "        },\n",
    "    },\n",
    "    'partial_observation': {\n",
    "            'type': 'crop', # 'blackout' or 'crop' or 'ram'\n",
    "            'mode': '3', # mode 1 in ram is buggy\n",
    "            'prob': 0.5,\n",
    "    },\n",
    "}\n",
    "\n",
    "stochasticity_profile = create_stochasticity_profile(game_name=game_name, type=5, config=stochasticity_config)\n",
    "env = stochasticity_profile.get_env(env)"
   ]
  },
  {
   "cell_type": "code",
   "execution_count": 267,
   "metadata": {},
   "outputs": [],
   "source": [
    "env = wrappers.OneHotAction(env)\n",
    "env = wrappers.TimeLimit(env, duration=108000)\n",
    "env = wrappers.SelectAction(env, key=\"action\")\n",
    "env = wrappers.UUID(env)"
   ]
  },
  {
   "cell_type": "code",
   "execution_count": 268,
   "metadata": {},
   "outputs": [
    {
     "data": {
      "image/png": "[encoded data removed]",
      "text/plain": [
       "<Figure size 500x500 with 1 Axes>"
      ]
     },
     "metadata": {},
     "output_type": "display_data"
    }
   ],
   "source": [
    "state = env.reset()\n",
    "state.keys()\n",
    "plot_frame(state['image'])"
   ]
  },
  {
   "cell_type": "code",
   "execution_count": 294,
   "metadata": {},
   "outputs": [
    {
     "data": {
      "image/png": "[encoded data removed]",
      "text/plain": [
       "<Figure size 500x500 with 1 Axes>"
      ]
     },
     "metadata": {},
     "output_type": "display_data"
    }
   ],
   "source": [
    "state, reward, is_last, _ = env.step({'action': np.array([0, 1 , 0, 0])})\n",
    "# print(env.env.env.env.env._step_count)\n",
    "plot_frame(state['image'])"
   ]
  }
 ],
 "metadata": {
  "kernelspec": {
   "display_name": "atari-env",
   "language": "python",
   "name": "python3"
  },
  "language_info": {
   "codemirror_mode": {
    "name": "ipython",
    "version": 3
   },
   "file_extension": ".py",
   "mimetype": "text/x-python",
   "name": "python",
   "nbconvert_exporter": "python",
   "pygments_lexer": "ipython3",
   "version": "3.10.18"
  }
 },
 "nbformat": 4,
 "nbformat_minor": 2
}
