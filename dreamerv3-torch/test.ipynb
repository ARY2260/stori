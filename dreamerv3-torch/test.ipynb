{
 "cells": [
  {
   "cell_type": "code",
   "execution_count": 1,
   "metadata": {},
   "outputs": [],
   "source": [
    "import logging\n",
    "\n",
    "logging.basicConfig(level=logging.DEBUG)"
   ]
  },
  {
   "cell_type": "code",
   "execution_count": 1,
   "metadata": {},
   "outputs": [],
   "source": [
    "from envs.atari import Atari\n",
    "from envs import wrappers"
   ]
  },
  {
   "cell_type": "code",
   "execution_count": 2,
   "metadata": {},
   "outputs": [],
   "source": [
    "import matplotlib.pyplot as plt\n",
    "import numpy as np\n",
    "\n",
    "def plot_frame(obs, label=''):\n",
    "    \"\"\"Plot a frame without going into interactive mode\"\"\"\n",
    "    # Create a new figure with non-interactive backend for this plot\n",
    "    fig, ax = plt.subplots(figsize=(5, 5))\n",
    "    ax.imshow(obs)\n",
    "    ax.set_title(f'Observation {label}')\n",
    "    ax.axis('off')\n",
    "    plt.tight_layout()\n",
    "    plt.show(block=True)  # Don't block, just display\n",
    "    plt.close()  # Close the figure to free memory"
   ]
  },
  {
   "cell_type": "code",
   "execution_count": 35,
   "metadata": {},
   "outputs": [],
   "source": [
    "from stochastic_atari import create_stochasticity_profile\n",
    "\n",
    "game_name = 'Gopher'\n",
    "\n",
    "env = Atari(\n",
    "            game_name,\n",
    "            4,\n",
    "            [64, 64],\n",
    "            gray=False,\n",
    "            noops=0,\n",
    "            lives='unused',\n",
    "            sticky=False,\n",
    "            actions='needed',\n",
    "            resize='opencv',\n",
    "            seed=0,\n",
    "        )\n",
    "\n",
    "stochasticity_config = {\n",
    "    'intrinsic_stochasticity': {\n",
    "        'action_dependent': {\n",
    "            'stochastic_action_prob': 0.5,\n",
    "            },\n",
    "        'action_independent_random': {\n",
    "            'mode': '2',\n",
    "            'random_stochasticity_prob': 0.9,\n",
    "        },\n",
    "        'action_independent_concept_drift': {\n",
    "            'temporal_mode': 'sudden', # 'sudden' or 'cyclic'\n",
    "            'temporal_threshold': 5,\n",
    "            'secondary_concept_type': 5,\n",
    "        },\n",
    "    },\n",
    "    'partial_observation': {\n",
    "            'type': 'ram', # 'blackout' or 'crop' or 'ram'\n",
    "            'mode': '3',\n",
    "            'prob': 1,\n",
    "    },\n",
    "}\n",
    "\n",
    "stochasticity_profile = create_stochasticity_profile(game_name=game_name, type=2, config=stochasticity_config)\n",
    "env = stochasticity_profile.get_env(env)"
   ]
  },
  {
   "cell_type": "code",
   "execution_count": 36,
   "metadata": {},
   "outputs": [],
   "source": [
    "env = wrappers.OneHotAction(env)\n",
    "env = wrappers.TimeLimit(env, duration=108000)\n",
    "env = wrappers.SelectAction(env, key=\"action\")\n",
    "env = wrappers.UUID(env)"
   ]
  },
  {
   "cell_type": "code",
   "execution_count": 37,
   "metadata": {},
   "outputs": [
    {
     "data": {
      "image/png": "[encoded data removed]",
      "text/plain": [
       "<Figure size 500x500 with 1 Axes>"
      ]
     },
     "metadata": {},
     "output_type": "display_data"
    }
   ],
   "source": [
    "state = env.reset()\n",
    "state.keys()\n",
    "plot_frame(state['image'])"
   ]
  },
  {
   "cell_type": "code",
   "execution_count": 38,
   "metadata": {},
   "outputs": [
    {
     "data": {
      "text/plain": [
       "Box(0.0, 1.0, (8,), float32)"
      ]
     },
     "execution_count": 38,
     "metadata": {},
     "output_type": "execute_result"
    }
   ],
   "source": [
    "env.action_space"
   ]
  },
  {
   "cell_type": "code",
   "execution_count": 39,
   "metadata": {},
   "outputs": [],
   "source": [
    "# SKIP AHEAD TO (238/4)TH STEP for gopher\n",
    "action = np.zeros(8)\n",
    "action[0] = 1.0\n",
    "for i in range(238//4):\n",
    "    obs, _, _, _ = env.step({'action': action})"
   ]
  },
  {
   "cell_type": "code",
   "execution_count": 338,
   "metadata": {},
   "outputs": [
    {
     "data": {
      "image/png": "[encoded data removed]",
      "text/plain": [
       "<Figure size 500x500 with 1 Axes>"
      ]
     },
     "metadata": {},
     "output_type": "display_data"
    }
   ],
   "source": [
    "action = np.zeros(8)\n",
    "action[6] = 1.0\n",
    "state, reward, is_last, _ = env.step({'action': action})\n",
    "plot_frame(state['image'])"
   ]
  },
  {
   "cell_type": "code",
   "execution_count": 163,
   "metadata": {},
   "outputs": [],
   "source": [
    "# og = env.env.env.env.env._env.unwrapped.ale.getRAM()\n",
    "# actions_to_hit = []\n",
    "# action_space = np.asarray([[1,0,0,0], [0,1,0,0], [0,0,1,0], [0,0,0,1]])\n",
    "# for i in range(1000):\n",
    "#     action_id = np.random.choice(range(4))\n",
    "#     print(action_id, action_space[action_id])\n",
    "#     state, reward, is_last, _ = env.step({'action': action_space[action_id]})\n",
    "#     actions_to_hit.append(action_space[action_id])\n",
    "#     new_ram = env.env.env.env.env._env.unwrapped.ale.getRAM()\n",
    "#     if not np.all(new_ram[:36] == og[:36]):\n",
    "#         break\n",
    "#     # else:\n",
    "#     #     print(\"No change\")\n",
    "# plot_frame(state['image'])"
   ]
  },
  {
   "cell_type": "code",
   "execution_count": null,
   "metadata": {},
   "outputs": [],
   "source": [
    "og = env.env.env.env.env._env.unwrapped.ale.getRAM()\n",
    "for action in actions_to_hit:\n",
    "    state, reward, is_last, _ = env.step({'action': action})\n",
    "    # else:\n",
    "    #     print(\"No change\")\n",
    "plot_frame(state['image'])"
   ]
  },
  {
   "cell_type": "code",
   "execution_count": null,
   "metadata": {},
   "outputs": [],
   "source": []
  }
 ],
 "metadata": {
  "kernelspec": {
   "display_name": "atari-env",
   "language": "python",
   "name": "python3"
  },
  "language_info": {
   "codemirror_mode": {
    "name": "ipython",
    "version": 3
   },
   "file_extension": ".py",
   "mimetype": "text/x-python",
   "name": "python",
   "nbconvert_exporter": "python",
   "pygments_lexer": "ipython3",
   "version": "3.10.18"
  }
 },
 "nbformat": 4,
 "nbformat_minor": 2
}
